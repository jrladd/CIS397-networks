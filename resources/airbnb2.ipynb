{
 "cells": [
  {
   "cell_type": "markdown",
   "id": "cf39dc08-3d5d-4d70-83d7-73317b3fd9f9",
   "metadata": {},
   "source": [
    "# Predicting Airbnb Rentals with Regression\n",
    "\n",
    "First, a reminder of the data and where it comes from:\n",
    "\n",
    ">Airbnb was founded in 2008 to allow people to rent apartments, houses, and spaces directly to one another. The company provides an alternative to traditional hotels and rentals. Recently there's been a lot of public discussion about the effects Airbnb rentals have on neighborhoods: as Airbnb gets more popular, more and more homes and apartments that were previously used as private residences are now becoming full-time rentals. The data activists and journalists at [Inside Airbnb](http://insideairbnb.com/) are using public information about rentals to better understand these phenomena.\n",
    "\n",
    "In the last workshop, you chose one independent variable (predictor) and explained its relationship to `price` (your dependent variable, or target) using bivariate linear regression. Now that you've gained a better understanding of the data, this week you'll **accurately predict the price of Airbnbs in New Orleans using multivariate linear regression**.\n",
    "\n",
    "As we discussed in class, linear models like these require lots of different steps and some flexible thinking about the data. You'll need to look through your notes from the past two weeks and think about what steps are best to include here. The multivariate regression examples we've already worked on (the `mpg` dataset and the Seattle housing dataset) should be especially helpful to you.\n",
    "\n",
    "You may need to try a few different models with some different sets of variables before you get one you feel confident in. You will also need to use multiple kinds of visualization for exploration, analysis, and validation.\n",
    "\n",
    "Your report should have the following sections:\n",
    "\n",
    "1) **Data wrangling and exploration**: What steps should you take to make the data ready for analysis? What variables do you want to use in this model and why?\n",
    "2) **Visualization and preparation**: Prepare for the model by checking for multicollinearity. Are there other visualizations or explorations you should do before you run your model? If you changed the variables you selected based on this, why did you do so?\n",
    "3) **Modeling and Assessment**: Run your multivariate regression model, handling any missing data and/or categorical variables. Assess it with the standard in-sample metrics we used in class. How did your model perform? You may need to try a few models before finding one that performs well.\n",
    "4) **Validation**: Once you find a model that performs well, run some of the standard out-of-sample validation steps. Is your model valid? Do you feel confident using it to predict the price of Airbnbs?\n",
    "\n",
    "This should be a polished and clearly-formatted report. Remember that in all of these steps **your interpretations are just as important as your code**. You should be taking time to interpret at each stage of your report, and make sure you are interpreting things *completely, accurately, and in terms of the data*."
   ]
  },
  {
   "cell_type": "code",
   "execution_count": null,
   "id": "ddaa8491-2319-4bad-a7b6-4a61bfd32cbc",
   "metadata": {},
   "outputs": [],
   "source": []
  }
 ],
 "metadata": {
  "kernelspec": {
   "display_name": "Python 3 (ipykernel)",
   "language": "python",
   "name": "python3"
  },
  "language_info": {
   "codemirror_mode": {
    "name": "ipython",
    "version": 3
   },
   "file_extension": ".py",
   "mimetype": "text/x-python",
   "name": "python",
   "nbconvert_exporter": "python",
   "pygments_lexer": "ipython3",
   "version": "3.9.12"
  }
 },
 "nbformat": 4,
 "nbformat_minor": 5
}
