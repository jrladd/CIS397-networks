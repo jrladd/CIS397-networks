{
 "cells": [
  {
   "cell_type": "markdown",
   "id": "1f6cf8e1-abed-4627-a822-9328f2c77d88",
   "metadata": {},
   "source": [
    "# Analyzing Airbnb Rentals with Regression\n",
    "\n",
    "Airbnb was founded in 2008 to allow people to rent apartments, houses, and spaces directly to one another. The company provides an alternative to traditional hotels and rentals. Recently there's been a lot of public discussion about the effects Airbnb rentals have on neighborhoods: as Airbnb gets more popular, more and more homes and apartments that were previously used as private residences are now becoming full-time rentals. The data activists and journalists at [Inside Airbnb](http://insideairbnb.com/) are using public information about rentals to better understand these phenomena.\n",
    "\n",
    "This week, we'll use a sample of [Inside Airbnb's data](http://insideairbnb.com/get-the-data) to investigate the prices of Airbnb rentals in New Orleans, LA during the year 2021. New Orleans is a city with a lot of tourism that relies on hotels and rentals to house its many visitors. In this first workshop, we'll use linear regression to explore some variables that may affect the price of rentals.\n",
    "\n",
    "*n.b. This assignment is loosely adapted from the Airbnb Lab assignment at Denison University.*\n",
    "\n",
    "## Getting Started\n",
    "\n",
    "**Begin by importing libraries as normal. Remember that you'll need the usual libraries as well as the `sklearn` classes and functions that we discussed in class.**"
   ]
  },
  {
   "cell_type": "code",
   "execution_count": null,
   "id": "93e97e15-3094-404c-af17-cb1cff3cb00a",
   "metadata": {},
   "outputs": [],
   "source": []
  },
  {
   "cell_type": "markdown",
   "id": "f2ae34f5-59f3-4e60-9975-9b18ff2a6e2f",
   "metadata": {},
   "source": [
    "Now we can read in our data. This is the largest data set we've worked with so far, and the file you downloaded, `nola_listings_2021.csv.gz`, is a zip archive which compresses the file to a more managable size. A cool feature of pandas is that you don't need to unzip this file to read it with the `read_csv()` function. **You can read the file as normal below**:"
   ]
  },
  {
   "cell_type": "code",
   "execution_count": null,
   "id": "556675a8-38f3-4bd7-af22-e87f111b70d0",
   "metadata": {},
   "outputs": [],
   "source": []
  },
  {
   "cell_type": "markdown",
   "id": "d549b11c-2f11-414a-863a-ed100e827c9b",
   "metadata": {},
   "source": [
    "## Data Wrangling\n",
    "\n",
    "There are a lot of columns in this data. More than can be viewed in the table view above. **Let's use the `.info()` method on our new dataframe to see all the column names and their data types:**"
   ]
  },
  {
   "cell_type": "code",
   "execution_count": null,
   "id": "5095aa60-81ab-40ea-8e6c-2530db241bf4",
   "metadata": {},
   "outputs": [],
   "source": []
  },
  {
   "cell_type": "markdown",
   "id": "e0233aa2-3c03-4b83-9435-e06f36530c4a",
   "metadata": {},
   "source": [
    "Right away this is very helpful! Now we have a list of all column names and we can see their type. You can compare this to [Inside Airbnb's full documentation](https://docs.google.com/spreadsheets/d/1iWCNJcSutYqpULSQHlNyGInUvHg2BoUGoNRIGa6Szc4/edit#gid=1322284596) so that you understand what each column is describing.\n",
    "\n",
    "Eagle-eyed readers might have spotted an issue with the column we care most about: the `price` of the rentals. But let's pretend we didn't see that for now. **Since we want to use `price` as our dependent variable, let's calculate the mean of price now:**"
   ]
  },
  {
   "cell_type": "code",
   "execution_count": null,
   "id": "f04367cf-7ede-4647-8c54-0c5fdfe6e64e",
   "metadata": {
    "tags": []
   },
   "outputs": [],
   "source": []
  },
  {
   "cell_type": "markdown",
   "id": "6bffdfb5-3d11-4883-9691-97213d95753d",
   "metadata": {},
   "source": [
    "Oh dear! That's a massive error message.  (You can click the blue bar at the left to collapse it.) Something clearly went wrong. **Let's look at the price column to see if we can spot the issue:**"
   ]
  },
  {
   "cell_type": "code",
   "execution_count": null,
   "id": "9060f2a4-543b-43ee-82e3-762661ebe8d3",
   "metadata": {},
   "outputs": [],
   "source": []
  },
  {
   "cell_type": "markdown",
   "id": "a724e13d-7cde-44ea-aa8f-afc6c6631957",
   "metadata": {},
   "source": [
    "Okay, so this column is a string rather than a number. That's no good, since we know we need a numerical variable as the dependent or target variable in a regression.\n",
    "\n",
    "What's worse, if you look above you'll see why we can't just convert this in the same way we've done in previous workshops. **Why can't we convert this directly to a number? And what do you think we need to do *before* we convert it? Write some thoughts below before reading the next section:**"
   ]
  },
  {
   "cell_type": "markdown",
   "id": "75e2a9fb-7a37-4768-a2d5-f6789542d233",
   "metadata": {},
   "source": [
    "[Your answer here.]"
   ]
  },
  {
   "cell_type": "markdown",
   "id": "b47ca5fe-8376-425f-b4a6-e17276468b79",
   "metadata": {},
   "source": [
    "So, we need to get rid of the problem characters first. Right now, our price column has the data type string; it's a bit of text. And Pandas has lots of helpful methods for [dealing with strings](https://pandas.pydata.org/pandas-docs/stable/user_guide/text.html#string-methods). The basic syntax is to put `.str.nameOfStringFunction()` after a column name. So we can use these `.str` methods to manipulate strings in different ways.\n",
    "\n",
    "We need to get rid of certain characters, and the right tool for this is the `.str.replace()` method. Replace will remove any character we like and insert a new character in its place, or it can simply remove a character and replace it with nothing.\n",
    "\n",
    "The replace method also accepts [*regular expressions*](https://en.wikipedia.org/wiki/Regular_expression), a special kind of search pattern that lets us select characters in advanced ways. For instance, in this case it will let us select multiple characters at once, so that we don't need to write three separate `.str.replace()` methods for the three characters we want to remove. For now we're not doing a deep dive into regular expressions, but they'll come up again later in the semester.\n",
    "\n",
    "The regular expression (or regex) we'll use in our replace function is `[\\$\\.\\,]`. The brackets mean that we want to search for any of these three possibilites, and the backslashes mean to search for these literal characters (so that they don't accidentally perform a function instead). We can ask the `.str.replace()` method to search for these characters and return nothing in their place. Copy this code into the cell below to see what it does:\n",
    "\n",
    "```python\n",
    "airbnb.price.str.replace(\"[\\$\\.\\,]\",\"\",regex=True)\n",
    "```"
   ]
  },
  {
   "cell_type": "code",
   "execution_count": null,
   "id": "750583cb-bedb-4e4b-ad06-b118c8fed46b",
   "metadata": {},
   "outputs": [],
   "source": []
  },
  {
   "cell_type": "markdown",
   "id": "47a23a56-8e72-4977-b2b3-feaede0bc065",
   "metadata": {},
   "source": [
    "Voila! No more troublesome characters. But this column is still a string, and now it has too many zeroes. Let's get the value in dollars by converting this to a `float` and then dividing by 100. We can combine that with the above replacement and save the whole thing into the price column. Copy this code into the cell below:\n",
    "\n",
    "```python\n",
    "airbnb.price = airbnb.price.str.replace(\"[\\$\\.\\,]\",\"\",regex=True).astype(float)/100\n",
    "airbnb.price\n",
    "```"
   ]
  },
  {
   "cell_type": "code",
   "execution_count": null,
   "id": "3f2c6c3e-236c-41b6-b8e3-fc28fa34fbb6",
   "metadata": {},
   "outputs": [],
   "source": []
  },
  {
   "cell_type": "markdown",
   "id": "3525ace0-5a3b-4ee1-89d5-e21ef6ed988a",
   "metadata": {},
   "source": [
    "Much better! Notice we used a different function, `.astype()`, to change the data type this time. Pandas usually provides multiple ways to accomplish the same task.\n",
    "\n",
    "Now let's calculate the mean rental price again:"
   ]
  },
  {
   "cell_type": "code",
   "execution_count": null,
   "id": "e3734ed2-9a75-45c8-97bf-8235386370ef",
   "metadata": {},
   "outputs": [],
   "source": []
  },
  {
   "cell_type": "markdown",
   "id": "5c53cd5d-c7a2-4f4e-b2e1-3b2ea378b8f8",
   "metadata": {},
   "source": [
    "This kind of thing is *very common* in data science. Even thoughtfully-prepared data can come to us in a form we wouldn't expect, and thankfully Pandas gives us the tools to change things up.\n",
    "\n",
    "## Exploratory Data Analysis\n",
    "\n",
    "Now we're ready to run some analyses on our data. As we prepare to do a statistical model like regression, we always want to get a sense of our data first. Let's investigate `price` a bit.\n",
    "\n",
    "**First, make a histogram of the Airbnb price. You'll have to change the number of bins or the binwidth to make this readable. Interpret the histogram fully, and note whether price is normally distributed.**"
   ]
  },
  {
   "cell_type": "code",
   "execution_count": null,
   "id": "b140704f-f3f4-4e35-bddd-073505d28a51",
   "metadata": {},
   "outputs": [],
   "source": []
  },
  {
   "cell_type": "markdown",
   "id": "9f41d154-f4ea-447d-a6ca-08f557fc0d8b",
   "metadata": {},
   "source": [
    "[Your interpretation here.]"
   ]
  },
  {
   "cell_type": "markdown",
   "id": "1df57b41-cb13-448e-a9a7-630a6f6df253",
   "metadata": {},
   "source": [
    "**Now use `.describe()` to view some summary statistics for price.**"
   ]
  },
  {
   "cell_type": "code",
   "execution_count": null,
   "id": "56e9bd17-f57b-4121-987c-136e956e6829",
   "metadata": {},
   "outputs": [],
   "source": []
  },
  {
   "cell_type": "markdown",
   "id": "ce0b2c0b-56c6-4604-969a-db7ccdcce5c3",
   "metadata": {},
   "source": [
    "Now we know a little bit more about the `price` variable, which will be our *dependent, or target, variable*. The *independent, or predictor, variable* will be your choice. Scroll back up and take a look at the list of variables. Refer to the [documentation](https://docs.google.com/spreadsheets/d/1iWCNJcSutYqpULSQHlNyGInUvHg2BoUGoNRIGa6Szc4/edit#gid=1322284596) to make sure you understand what the column name means.\n",
    "\n",
    "Choose one variable that you think will make a good predictor for `price`. **Below, explain the variable you chose and why you think it's a good option.**"
   ]
  },
  {
   "cell_type": "markdown",
   "id": "a25a4c21-0fac-4b3f-af52-7a6af57cc435",
   "metadata": {},
   "source": [
    "[Your answer here.]"
   ]
  },
  {
   "cell_type": "markdown",
   "id": "c9133a49-62a4-4dc0-9e4d-f418db34cc05",
   "metadata": {},
   "source": [
    "**Now make a regression plot showing the relationship between your dependent and independent variables. Interpret the plot fully, and note whether it seems like there's a correlation between them.**"
   ]
  },
  {
   "cell_type": "code",
   "execution_count": null,
   "id": "00eec029-ebfd-4c45-bf99-b7bfb46c51f7",
   "metadata": {},
   "outputs": [],
   "source": []
  },
  {
   "cell_type": "markdown",
   "id": "ea002bee-5721-4c4a-bc6f-530b6d811202",
   "metadata": {},
   "source": [
    "[Your interpretation here.]"
   ]
  },
  {
   "cell_type": "markdown",
   "id": "b797abf9-fe9a-4cca-84fb-28009d98356d",
   "metadata": {},
   "source": [
    "**Calculate the correlation coefficient between your two variables. Is this a weak or strong correlation? Is is a positive or negative correlation?**"
   ]
  },
  {
   "cell_type": "code",
   "execution_count": null,
   "id": "dadbe6ca-df9b-4bc9-9577-45c9a10083a1",
   "metadata": {},
   "outputs": [],
   "source": []
  },
  {
   "cell_type": "markdown",
   "id": "13793d8c-3922-4590-a5e7-d83e751607e0",
   "metadata": {},
   "source": [
    "[Your answer here.]"
   ]
  },
  {
   "cell_type": "markdown",
   "id": "2a803702-fcfd-4619-b71c-841b643d0ecd",
   "metadata": {},
   "source": [
    "**Do you think this variable is a good choice as the independent (predictor) variable in your regression? Why or why not?**"
   ]
  },
  {
   "cell_type": "markdown",
   "id": "efff43ad-d432-4e56-b891-43ad542f101c",
   "metadata": {},
   "source": [
    "[Your answer here.]"
   ]
  },
  {
   "cell_type": "markdown",
   "id": "e30582e2-4546-404c-b1c1-afb20e55d06f",
   "metadata": {},
   "source": [
    "If your variable is a good choice, you can start on the next section. **If your variable didn't work out, you may need to explore the data a little more and find a variable better suited as a predictor.** This happens all the time, and it's totally fine to try a few options. In fact, it's very unlikely that you found a good dependent variable on your first try! Use your intuition and refer to the documentation to find another variable to try. Once you've got a good one, move on to the next section."
   ]
  },
  {
   "cell_type": "markdown",
   "id": "aedc5a27-f159-4247-abee-77510fad9905",
   "metadata": {},
   "source": [
    "## Linear Regression\n",
    "\n",
    "Now we're ready to model our data! We've done due diligence wrangling and exploring our data, and we have a much better sense of things.\n",
    "\n",
    "**Now you can run the code for your model. Split the data into training and test sets, create an instance of the `LinearRegression()` class, fit the model, and calculate the slope and intercept. You can do all of those in one code cell below:**"
   ]
  },
  {
   "cell_type": "code",
   "execution_count": null,
   "id": "2cc8211e-410b-482a-af5e-d676450bf098",
   "metadata": {},
   "outputs": [],
   "source": []
  },
  {
   "cell_type": "markdown",
   "id": "9d4b5f75-813c-4272-b625-03124b9d9939",
   "metadata": {},
   "source": [
    "**Now interpret the above coefficients *completely, accurately, and in terms of the data*. What do these coefficients tell us about the relationship between your independent variable and our dependent variable, the price of the rentals?**"
   ]
  },
  {
   "cell_type": "markdown",
   "id": "e4673adf-c8a0-4263-b240-fc3b72fa4724",
   "metadata": {},
   "source": [
    "[Your answer here.]"
   ]
  },
  {
   "cell_type": "markdown",
   "id": "79dab142-0568-499f-9ac6-eea379081cdc",
   "metadata": {},
   "source": [
    "Finally, let's assess our model's performance. **Calculate both Root Mean Squared Error and the Coefficient of Determination ($R^{2}$) below. Remember that you'll need to predict some fitted values first.**"
   ]
  },
  {
   "cell_type": "code",
   "execution_count": null,
   "id": "c4e34124-1f86-4944-9a94-33c049615549",
   "metadata": {},
   "outputs": [],
   "source": []
  },
  {
   "cell_type": "markdown",
   "id": "d20b0bf3-c778-4ce6-ba6f-fc51875a25dd",
   "metadata": {},
   "source": [
    "**Interpret both of these metrics, especially $R^{2}$. Did your model account for much of the variance in the target variable, `price`? Are your residuals too big or too small? Remember that there aren't clear answers to these questions—they're based on your interpretation of the data's context. So apply what you've learned about this data set and give it a shot:**"
   ]
  },
  {
   "cell_type": "markdown",
   "id": "f4a264e5-ab67-40d6-af38-91e4d2fef7b1",
   "metadata": {},
   "source": [
    "[Your answer here.]"
   ]
  },
  {
   "cell_type": "markdown",
   "id": "0e912bc0-b6eb-4cff-be43-860c2111632e",
   "metadata": {
    "tags": []
   },
   "source": [
    "## Conclusion\n",
    "\n",
    "**Write a brief conclusion summarizing what you found out. What variables seem to affect the price of an Airbnb rental in New Orleans? How or how much do these things affect the price? What might you want to try next?**"
   ]
  },
  {
   "cell_type": "markdown",
   "id": "d190869d-b1d5-4d41-8891-dd4d687b2be8",
   "metadata": {},
   "source": [
    "[Your conclusion here.]"
   ]
  },
  {
   "cell_type": "markdown",
   "id": "41dbe561-04ad-4a59-8697-41f261bc4a4c",
   "metadata": {},
   "source": [
    "## Bonus Challenge\n",
    "\n",
    "*This next part is completely optional and won't affect your grade on this workshop at all. But you might find it interesting!*\n",
    "\n",
    "Another way we can validate or assess a model is to find out if our residuals are normally distributed and have a mean close to 0. If they do, then we can be reasonably confident in our model. Below, calculate the in-sample residuals and make a histogram showing the residual distribution. Are the residuals normally distributed? Do they seem to have a mean near 0?"
   ]
  },
  {
   "cell_type": "code",
   "execution_count": null,
   "id": "282f1c58-592f-457d-8eab-ea9acee77bc7",
   "metadata": {},
   "outputs": [],
   "source": []
  },
  {
   "cell_type": "markdown",
   "id": "01b456d9-ff14-4c17-8c03-f4b306c9bff0",
   "metadata": {},
   "source": [
    "[Your answer here.]"
   ]
  },
  {
   "cell_type": "markdown",
   "id": "c9c5f862-d354-499c-89b3-062fdeb5341d",
   "metadata": {},
   "source": [
    "Another way to look at the distribution of residuals is to use a Quantile-Quantile Plot. This special type of scatter plot compares the residuals to normally-distributed values. As an extra challenge, see if you can make a Q-Q plot below. *This will definitely involve some Googling and/or searching the Seaborn site. You'll also probably have to import some new libraries. There are many possible approaches to this, so don't stress about doing it \"the right way.\"*"
   ]
  },
  {
   "cell_type": "code",
   "execution_count": null,
   "id": "277dae23-a743-41d0-a17d-9f36cd7df60b",
   "metadata": {},
   "outputs": [],
   "source": []
  }
 ],
 "metadata": {
  "kernelspec": {
   "display_name": "Python 3 (ipykernel)",
   "language": "python",
   "name": "python3"
  },
  "language_info": {
   "codemirror_mode": {
    "name": "ipython",
    "version": 3
   },
   "file_extension": ".py",
   "mimetype": "text/x-python",
   "name": "python",
   "nbconvert_exporter": "python",
   "pygments_lexer": "ipython3",
   "version": "3.9.12"
  }
 },
 "nbformat": 4,
 "nbformat_minor": 5
}
