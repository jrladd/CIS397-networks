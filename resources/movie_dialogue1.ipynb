{
 "cells": [
  {
   "cell_type": "markdown",
   "id": "37947e60-cfd7-47eb-ae14-c6b510c28b20",
   "metadata": {},
   "source": [
    "# Movie Dialogue\n",
    "\n",
    "## Introduction\n",
    "\n",
    "Over the past 10 years, there's been a lot of public conversation about gender and racial imbalance in Hollywood. Movements like [#OscarsSoWhite](https://www.nytimes.com/2020/02/06/movies/oscarssowhite-history.html) and trends like [the Bechdel test](https://en.wikipedia.org/wiki/Bechdel_test) have explicitly called out the extent to which certain groups are underrepresented in Hollywood films. But exactly what are the proportions of representation in movies? Before we can address this apparent imbalance, we have to understand its scope and extent.\n",
    "\n",
    "In 2016, a group of researchers working for the data visualization website [The Pudding](https://pudding.cool/) set out to do just that in order to better understand gender imbalance in film. They compiled a data set of approximately 2000 scripts from throughout movie history and, using text analysis, recorded how much each character speaks. The data was then refined and enhanced first by [Dr. Melanie Walsh](https://melaniewalsh.github.io/Intro-Cultural-Analytics/00-Datasets/00-Datasets.html#hollywood-film-dialogue-by-character-gender-and-age) and then by Dr. John Ladd. I (Dr. Ladd speaking) added genre categories and runtime information from the [larger IMDB dataset](https://www.imdb.com/interfaces/).\n",
    "\n",
    "Using this census of film scripts, it's possible to better understand what gender imbalance looks like in movies across history and to ask questions about what may affect that imbalance. For example, we might ask: what factors affect the proportion of dialogue in a movie spoken by female characters?\n",
    "\n",
    "## Ethical Considerations\n",
    "\n",
    "Discussion of gender bias and imbalance can be deeply sensitive. The issue of whether women are underrepresented in the film industry affects thousands of women actors, directors, and crew members. Representation is also essential for audiences: as long as movies remain a major cultural force, everyone wants to see themselves accurately and fairly portrayed on screen. It's important that data analysts neither underplay nor exaggerate the imbalances that exist in this industry.\n",
    "\n",
    "But gender, as a concept, is historically fraught, and using a binary definition of gender for a data analysis like this is useful but not fully accurate. I'll let [Dr. Walsh](https://melaniewalsh.github.io/Intro-Cultural-Analytics/03-Data-Analysis/03-Pandas-Basics-Part3.html#the-puddings-film-dialogue-data) explain:\n",
    "\n",
    ">Yet transforming complex social constructs like gender into quantifiable data is tricky and historically fraught. They [*The Pudding* researchers] claim, in fact, that one of the most [frequently asked questions](https://medium.com/@matthew_daniels/faq-for-the-film-dialogue-by-gender-project-40078209f751) about the piece is about gender: “Wait, but let’s talk about gender. How do you know the monster in Monsters Inc. is a boy!” The short answer is that they don’t. To determine character gender, they used actors’ IMDB information, which they acknowledge is an imperfect approach: “Sometimes, women voice male characters. Bart Simpson, for example, is voiced by a woman. We’re aware that this means some of the data is wrong, AND we’re still fine with the methodology and approach.”\n",
    "\n",
    ">As we work with this data, we want to be critical and cognizant of this approach to gender. How does such a binary understanding of gender, gleaned from the IMDB pages of actors, influence our later results and conclusions? What do we gain by using such an approach, and what do we lose? How else might we have encoded or determined gender for the same data?\n",
    "\n",
    "\n",
    "## Let's Begin\n",
    "\n",
    "First you'll need to import two of the main libraries that we've been discussing in class: `pandas` and `numpy`. Abbreviate pandas as pd and numpy as np. Type your code in the cell below:"
   ]
  },
  {
   "cell_type": "code",
   "execution_count": 1,
   "id": "7f661590-c725-45f3-9bcf-75d16f5f4189",
   "metadata": {},
   "outputs": [],
   "source": [
    "# Type your code here"
   ]
  },
  {
   "cell_type": "markdown",
   "id": "97671107-565a-4853-ba84-06e492747364",
   "metadata": {},
   "source": [
    "Next, you'll need some data. Make sure you've downloaded the `Pudding-Film-Dialogue.csv` file and that it's in the same directory as this notebook. (If you did it correctly, you should see it in the file browser on the left-hand side of Jupyter lab.) Use the function `pd.read_csv()` to read your file, and assign it to a variable called `dialogue`. Then display the new dialogue DataFrame you created."
   ]
  },
  {
   "cell_type": "code",
   "execution_count": null,
   "id": "3ae531fc-0932-4727-a2f6-b253c7211992",
   "metadata": {},
   "outputs": [],
   "source": []
  },
  {
   "cell_type": "markdown",
   "id": "3e73512a-0c58-44f0-bf98-710fb087c5f0",
   "metadata": {},
   "source": [
    "Above you should see a table of the data. Take a moment to make sure you understand what you're seeing. \n",
    "\n",
    "- What does each row represent? a movie? a character? a line of dialogue?\n",
    "- What does each column represent? What are the different variables and their types (categorical or numerical)?\n",
    "- Are there any potential problems you can see in this data set?\n",
    "\n",
    "Write your answers below using Jupyter's \"Markdown\" feature. Select the cell below, and then change the dropdown at the top of the screen from \"Code\" to \"Markdown.\" This will allow you to type regular text into the cell and have it render correctly."
   ]
  },
  {
   "cell_type": "code",
   "execution_count": null,
   "id": "66c63de6-268c-410e-a6ec-b592ed914436",
   "metadata": {},
   "outputs": [],
   "source": []
  },
  {
   "cell_type": "markdown",
   "id": "ba251b9d-5c1d-47d1-8b37-159a2c5a0df8",
   "metadata": {},
   "source": [
    "## Wrangling\n",
    "\n",
    "Now that you're a little more familiar with the data and have it loaded into Pandas, we're ready to begin some wrangling. Let's start by sorting the DataFrame according to the `gender` column. What do you notice? Write your code to sort the DataFrame below, and then write what you notice in a Markdown cell below that."
   ]
  },
  {
   "cell_type": "code",
   "execution_count": null,
   "id": "cb86de0c-22a6-40a0-9507-671d30e1201a",
   "metadata": {},
   "outputs": [],
   "source": []
  },
  {
   "cell_type": "markdown",
   "id": "d875410c-4001-4ff0-8fc0-c88bc93cc0d8",
   "metadata": {},
   "source": []
  },
  {
   "cell_type": "markdown",
   "id": "00002da8-944e-4189-9e1b-6e385a5dc6c9",
   "metadata": {},
   "source": [
    "You'll have noticed that there's something you need to filter *out* of the data above. Let's remove all rows where the gender of the character is unknown. Write your filter below, and store it in the same variable name, `dialogue`. Display the sorted DataFrame again to make sure you did it correctly! (Don't forget to add some comments so you remember *why* you created this filter.)"
   ]
  },
  {
   "cell_type": "code",
   "execution_count": null,
   "id": "c4c1647f-ba17-442c-875a-92b2db36361c",
   "metadata": {},
   "outputs": [],
   "source": []
  },
  {
   "cell_type": "markdown",
   "id": "03f853a5-96a7-4ef5-92f9-3909b559ac99",
   "metadata": {},
   "source": [
    "Now our DataFrame is less likely to generate errors when we group and sort by gender. Next, let's check on our data types. Use the `.info()` method below to see the data types for each column."
   ]
  },
  {
   "cell_type": "code",
   "execution_count": null,
   "id": "336d5e37-3043-474b-bf87-3d08af6d0d5d",
   "metadata": {},
   "outputs": [],
   "source": []
  },
  {
   "cell_type": "markdown",
   "id": "92057e01-89b7-426e-a431-7ffa25c26d64",
   "metadata": {},
   "source": [
    "One of these is wrong! It should be a number, but instead it's an \"object\", i.e. a string. Which one is it? Write your answer below, and also explain why it's important to change this from a string to a number:"
   ]
  },
  {
   "cell_type": "markdown",
   "id": "53de6cf4-20fa-4260-9fd7-039b5ae34b44",
   "metadata": {},
   "source": []
  },
  {
   "cell_type": "markdown",
   "id": "493f39fe-40f8-4654-b67e-a50094595961",
   "metadata": {},
   "source": [
    "Now that you've located the trouble, write some code to change this to numeric data. Hint: use the `pd.to_numeric()` function on the column you need, and remember that you can always look things up in the [Pandas documentation](https://pandas.pydata.org/docs/user_guide/index.html#user-guide) if you need to.\n",
    "\n",
    "When you're done, run `dialogue.info()` again to make sure it worked."
   ]
  },
  {
   "cell_type": "code",
   "execution_count": null,
   "id": "875149c1-12c6-4336-831e-b21688b19fdd",
   "metadata": {},
   "outputs": [],
   "source": []
  },
  {
   "cell_type": "markdown",
   "id": "90e67457-5cbf-4349-aa78-52598a06b738",
   "metadata": {},
   "source": [
    "The column should now say \"float\" instead of \"object.\" That will also help us prevent errors in the future.\n",
    "\n",
    "Finally, we know the number of words each character speaks, and we know the overall proportion of how much they speak in the film compared to others. It would also be nice to know how much they speak relative to the *length* of the film.\n",
    "\n",
    "In the code cell below, create a new column called `words_per_min` that looks at the number of words people speak compared to the runtime of the film. What columns will you need to use to create this one, and what mathematical operation will you have to perform? Make sure to save your work in the same `dialogue` variable, and display the DataFrame when you're done to make sure the new column is there."
   ]
  },
  {
   "cell_type": "code",
   "execution_count": null,
   "id": "c8472e33-fba8-44ba-a2ae-a470fe5c0072",
   "metadata": {},
   "outputs": [],
   "source": []
  },
  {
   "cell_type": "markdown",
   "id": "a80bf998-105a-49fb-a17b-b28d7d347bd4",
   "metadata": {},
   "source": [
    "## Exploring\n",
    "\n",
    "There's a fine line between \"data wrangling\" and exploring our data set more deeply. We can use the same tools to do both.\n",
    "\n",
    "Let's start by finding some averages. Find the average age of all characters in this data set:"
   ]
  },
  {
   "cell_type": "code",
   "execution_count": null,
   "id": "28716cae-7aa4-4d23-b0dc-4fffab8217af",
   "metadata": {},
   "outputs": [],
   "source": []
  },
  {
   "cell_type": "markdown",
   "id": "d687ee97-cfc6-49f3-8bed-c0ddd39ede48",
   "metadata": {},
   "source": [
    "Does this number seem low or high to you? To verify, sort the dataframe in descending order by age:"
   ]
  },
  {
   "cell_type": "code",
   "execution_count": null,
   "id": "778164a5-14dc-4bf3-a5f2-057968f41142",
   "metadata": {},
   "outputs": [],
   "source": []
  },
  {
   "cell_type": "markdown",
   "id": "f862abeb-7f87-4a9f-869b-cee9db19490e",
   "metadata": {},
   "source": [
    "Something strange is going on! If we were the data collectors, we could probably find the correct information and fix it. But since we're not, let's simply get rid of the nonsensical ages. Choose a reasonable cut-off and filter the data set accordingly. Display the sorted data set again to make sure it's right."
   ]
  },
  {
   "cell_type": "code",
   "execution_count": null,
   "id": "fdba4286-b720-4641-bb25-42f112b56042",
   "metadata": {},
   "outputs": [],
   "source": []
  },
  {
   "cell_type": "markdown",
   "id": "b07aacfd-870b-4620-a9e8-2d022601736b",
   "metadata": {},
   "source": [
    "Now calculate the average age again. Notice a difference?"
   ]
  },
  {
   "cell_type": "code",
   "execution_count": null,
   "id": "56371be1-16f5-4395-9ea7-c8fab26ae870",
   "metadata": {},
   "outputs": [],
   "source": []
  },
  {
   "cell_type": "markdown",
   "id": "c2adbc40-af1d-44f7-a538-cb719f728d55",
   "metadata": {},
   "source": [
    "So far we've used filtering and selecting to clean up our data set. We can also use it to see some things more clearly. Let's look at the data set with just the `title`, `release_year`, `character`, `gender`, and `words` columns."
   ]
  },
  {
   "cell_type": "code",
   "execution_count": null,
   "id": "6867fcc3-2ad0-4ee5-967a-2bbde18aca46",
   "metadata": {},
   "outputs": [],
   "source": []
  },
  {
   "cell_type": "markdown",
   "id": "fe737211-3adf-4168-9b89-95d4258ae981",
   "metadata": {},
   "source": [
    "You can see how easy it is to zero in on the variables you care most about!\n",
    "\n",
    "Let's also do this with rows. Display just the rows for a single movie: one of my favorites, 1993's *Jurassic Park*."
   ]
  },
  {
   "cell_type": "code",
   "execution_count": null,
   "id": "c2b0d48f-73a1-480e-b21e-9699ccca5f79",
   "metadata": {},
   "outputs": [],
   "source": []
  },
  {
   "cell_type": "markdown",
   "id": "110cbd9b-dd2b-4588-9e53-e4488bf1c8e9",
   "metadata": {},
   "source": [
    "What do you notice about the dialogue breakdown by gender in this movie? Write a few observations below. If you would find it easier to sort this filtered data frame by words or proportion of dialogue, you can amend the code above to do that."
   ]
  },
  {
   "cell_type": "markdown",
   "id": "02b4271e-2c57-4cd5-923c-0f1c9b0d2c21",
   "metadata": {},
   "source": []
  },
  {
   "cell_type": "markdown",
   "id": "6c570caa-18e6-4342-8139-050da110ee19",
   "metadata": {},
   "source": [
    "Do this one more time with whatever movie you choose! Remember that the movies in this data set go up until 2015."
   ]
  },
  {
   "cell_type": "code",
   "execution_count": null,
   "id": "b28952d2-044c-4a97-9862-5938c17b3316",
   "metadata": {},
   "outputs": [],
   "source": []
  },
  {
   "cell_type": "markdown",
   "id": "5e21a6b6-ba76-4923-b8bf-6d12a7ba09df",
   "metadata": {},
   "source": [
    "We've been doing a lot of things individually so far, but there's also a method, `.describe()`, that will give us averages and other summary statistics for every column. Let's try that now:"
   ]
  },
  {
   "cell_type": "code",
   "execution_count": null,
   "id": "d9ddfba9-84b0-4ef6-aedc-99e3db8345a0",
   "metadata": {},
   "outputs": [],
   "source": []
  },
  {
   "cell_type": "markdown",
   "id": "5e491724-13e6-4e38-a28b-42f336e870fb",
   "metadata": {},
   "source": [
    "This shows mean, min, and max values (and more) for every numerical column in our data set. What's the average length of a film? Now we know! We'll dig into this more as part of our lesson for next week.\n",
    "\n",
    "And lastly, what we care about the most in this data set—the reason the data was created—is to understand the differences between characters of different genders. Let's create a summary table *grouping* the data set by gender, to see what the *average* proportion of dialogue is for men and women:"
   ]
  },
  {
   "cell_type": "code",
   "execution_count": null,
   "id": "a2d7460e-fa18-4d3c-a2fc-ee3e0200d37d",
   "metadata": {},
   "outputs": [],
   "source": []
  },
  {
   "cell_type": "markdown",
   "id": "4ef90cf3-7a6c-4612-ba1c-993be3977a4b",
   "metadata": {},
   "source": [
    "This seemed like a sensible thing to do, but the numbers don't make much sense. What do you think went wrong? Write your thoughts below:"
   ]
  },
  {
   "cell_type": "markdown",
   "id": "5ff588e1-de33-4eb1-b023-a7bd12a71fd4",
   "metadata": {},
   "source": []
  },
  {
   "cell_type": "markdown",
   "id": "812dc07f-84d5-41a2-b49a-37c5b587f3d9",
   "metadata": {},
   "source": [
    "Let's try again! This time, group by the movie's title *and* gender. This will let us see the breakdown of dialogue proportion in every film.\n",
    "\n",
    "But also, for each movie, it makes more sense to *add up* the proportions of dialogue than it does to average them. Let's use `.sum()` instead of `.mean()` this time, and limit our results to just the `proportion_of_dialogue` column.\n",
    "\n",
    "This will generate a lot of data, but just scan it quickly and get your impressions."
   ]
  },
  {
   "cell_type": "code",
   "execution_count": 2,
   "id": "763e15fa-ea1c-44ac-944a-295f808ba7c9",
   "metadata": {},
   "outputs": [],
   "source": [
    "# pd.options.display.max_rows = None # Remove the hashtag at the beginning of this line & use this code to display every possible row\n",
    "\n",
    "# Type your code here\n"
   ]
  },
  {
   "cell_type": "markdown",
   "id": "08c163ce-3f8d-40c5-9b14-4cc6b5ddabe9",
   "metadata": {},
   "source": [
    "What overall patterns did you notice? What questions would you want to ask next? Write some thoughts below:"
   ]
  },
  {
   "cell_type": "markdown",
   "id": "617a2c68-4d70-40aa-8de6-e04a2c753b52",
   "metadata": {},
   "source": []
  },
  {
   "cell_type": "markdown",
   "id": "90f18e58-4772-48c1-aa04-24686ccc4e03",
   "metadata": {},
   "source": [
    "## Conclusion\n",
    "\n",
    "Great work! You've successfully wrangled your first data set and got a sense of what Pandas can do. Next week, we'll start to visualize our data set, combining our data wrangling skills with charts and graphs. Remember to upload this file to the Sakai \"Drop Box\" when you're done."
   ]
  }
 ],
 "metadata": {
  "kernelspec": {
   "display_name": "Python 3 (ipykernel)",
   "language": "python",
   "name": "python3"
  },
  "language_info": {
   "codemirror_mode": {
    "name": "ipython",
    "version": 3
   },
   "file_extension": ".py",
   "mimetype": "text/x-python",
   "name": "python",
   "nbconvert_exporter": "python",
   "pygments_lexer": "ipython3",
   "version": "3.9.12"
  }
 },
 "nbformat": 4,
 "nbformat_minor": 5
}
