{
 "cells": [
  {
   "cell_type": "markdown",
   "id": "fc7413dd-6939-4c40-96c1-a6c9cb0ca1d3",
   "metadata": {
    "tags": []
   },
   "source": [
    "# Modeling Shakespeare with Neural Networks\n",
    "\n",
    "At the start of the semester, we looked at what data analysis could show us about the history of film. Since then we've explored many different subjects where we might expect to find lots of data: sports, ecology, business, health. Now we need to ask: can we use data analysis to understand a subject when we don't have any numbers at all?\n",
    "\n",
    "Shakespeare might seem like the farthest possible thing from data science, but the reality is that people have been analyzing Shakespeare with data just as long as they've been writing books and essays about him. In this workshop, we'll explore all 37 of Shakespeare's plays using data.\n",
    "\n",
    "We can use classification with neural networks to help us understand a question that readers of Shakespeare's plays have argued over for generations: what genre categories do the plays belong to? In the First Folio (the first complete publication of most of Shakespeare's plays, published in 1623), the publishers attempted to categorize the plays in the table of contents:\n",
    "\n",
    "<a title=\"William Shakespeare\n",
    ", Public domain, via Wikimedia Commons\" href=\"https://commons.wikimedia.org/wiki/File:First_Folio,_Shakespeare_-_0017.jpg\"><img width=\"512\" alt=\"First Folio, Shakespeare - 0017\" src=\"https://upload.wikimedia.org/wikipedia/commons/thumb/8/8a/First_Folio%2C_Shakespeare_-_0017.jpg/512px-First_Folio%2C_Shakespeare_-_0017.jpg\"></a>\n",
    "\n",
    "This is a reasonable first attempt! We've got a nice even set of 3 categories: Comedy, Tragedy, and History. Scholars have since added a fourth category, Romance or Tragicomedy, that includes plays like *The Tempest*, *The Winter's Tale*, *Cymbeline*, and *Pericles*. Last week, you clustered Shakespeare's plays to determine what potential groupings of plays may exist. **In this week's workshop, you'll use an artificial neural network to classify Shakespeare's plays by genre.** Here are the steps you should take:\n",
    "\n",
    "## Data Wrangling\n",
    "\n",
    "1. Import all the necessary libraries. You'll need some of the new ones (`cross_val_score`, `classification_report`) that we talked about on Tuesday.\n",
    "2. Using the same files and the same code as last time, import the Shakespeare data and turn it into a DataFrame of TF-IDF scores.\n",
    "3. Because we used *unsupervised* clustering last time, we didn't need a target variable. But we're using a *supervised* approach this time. Let's use the First Folio title page, shown above, as our guide to the target variable of genre. Instead of making everyone type that out individually, I've created a Python `dictionary` with that information, and put it into a pandas series, in the cell below.\n",
    "\n",
    "## Modeling\n",
    "\n",
    "1. Prepare your data for modeling. You'll use your TF-IDF dataframe (probably called `shakespeare`) as your X, and the `genres` series you created in the previous step will be your y.\n",
    "2. Split the data and fit your model to the training data. Remember, because TF-IDF is already a type of scaling, you don't need to use `StandardScaler()` here like you normally would.\n",
    "3. Fit your Shakespeare data to the `MLPClassifier()`. Be thoughtful about the hyperparameters you're using.\n",
    "4. Get predictions, categories, and probabilities from your model. Make a pandas DataFrame that shows the probabilities of each play in your test data for each genre (plays will be the rows and genres will be the columns). What does this table tell you about how the model worked on certain plays?\n",
    "5. Explain each step with comments and/or markdown cells.\n",
    "\n",
    "## Validation\n",
    "\n",
    "1. Run the usual validation steps: create a confusion matrix and use `classification_report` to get all your accuracy scores. (Remember that you can't make an ROC curve because this isn't a binary classifier.)\n",
    "2. Use cross-validation to see how your model performed. How does the cross validation score compare to the score of your specific split of the data?\n",
    "3. Explain each step with comments and/or markdown cells. How did your model perform overall? Would you trust this neural network to classify plays correctly?"
   ]
  },
  {
   "cell_type": "code",
   "execution_count": null,
   "id": "bbddb06c-cb89-4fd1-b1a3-3b94e21af1e3",
   "metadata": {},
   "outputs": [],
   "source": []
  },
  {
   "cell_type": "code",
   "execution_count": 25,
   "id": "5a259d91-65ce-4539-b059-d2be3947857b",
   "metadata": {},
   "outputs": [],
   "source": [
    "genres = {'much-ado-about-nothing': 'comedy',\n",
    " 'richard-iii': 'history',\n",
    " 'the-winters-tale': 'romance',\n",
    " 'richard-ii': 'history',\n",
    " 'henry-vi-part-3': 'history',\n",
    " 'the-two-noble-kinsmen': 'romance',\n",
    " 'timon-of-athens': 'tragedy',\n",
    " 'the-merchant-of-venice': 'comedy',\n",
    " 'loves-labors-lost': 'comedy',\n",
    " 'troilus-and-cressida': 'tragedy',\n",
    " 'a-midsummer-nights-dream': 'comedy',\n",
    " 'henry-iv-part-1': 'history',\n",
    " 'henry-vi-part-1': 'history',\n",
    " 'henry-v': 'history',\n",
    " 'pericles': 'romance',\n",
    " 'the-merry-wives-of-windsor': 'comedy',\n",
    " 'as-you-like-it': 'comedy',\n",
    " 'king-john': 'history',\n",
    " 'cymbeline': 'romance',\n",
    " 'alls-well-that-ends-well': 'comedy',\n",
    " 'henry-viii': 'history',\n",
    " 'julius-caesar': 'tragedy',\n",
    " 'the-tempest': 'romance',\n",
    " 'macbeth': 'tragedy',\n",
    " 'hamlet': 'tragedy',\n",
    " 'the-taming-of-the-shrew': 'comedy',\n",
    " 'coriolanus': 'tragedy',\n",
    " 'othello': 'tragedy',\n",
    " 'romeo-and-juliet': 'tragedy',\n",
    " 'measure-for-measure': 'comedy',\n",
    " 'antony-and-cleopatra': 'tragedy',\n",
    " 'henry-vi-part-2': 'history',\n",
    " 'titus-andronicus': 'tragedy',\n",
    " 'twelfth-night': 'comedy',\n",
    " 'henry-iv-part-2': 'history',\n",
    " 'king-lear': 'tragedy',\n",
    " 'the-comedy-of-errors': 'comedy',\n",
    " 'the-two-gentlemen-of-verona': 'comedy'}\n",
    "genres = pd.Series(genres)"
   ]
  },
  {
   "cell_type": "code",
   "execution_count": null,
   "id": "e7de78d5-a463-4f4c-825a-1db27d3c1ae6",
   "metadata": {},
   "outputs": [],
   "source": []
  }
 ],
 "metadata": {
  "kernelspec": {
   "display_name": "Python 3 (ipykernel)",
   "language": "python",
   "name": "python3"
  },
  "language_info": {
   "codemirror_mode": {
    "name": "ipython",
    "version": 3
   },
   "file_extension": ".py",
   "mimetype": "text/x-python",
   "name": "python",
   "nbconvert_exporter": "python",
   "pygments_lexer": "ipython3",
   "version": "3.9.12"
  }
 },
 "nbformat": 4,
 "nbformat_minor": 5
}
