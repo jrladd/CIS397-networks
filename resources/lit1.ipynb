{
 "cells": [
  {
   "cell_type": "markdown",
   "metadata": {},
   "source": [
    "# Modeling Shakespeare with K-Means Clustering\n",
    "\n",
    "At the start of the semester, we looked at what data analysis could show us about the history of film. Since then we've explored many different subjects where we might expect to find lots of data: sports, ecology, business, health. Now we need to ask: can we use data analysis to understand a subject when we don't have any numbers at all?\n",
    "\n",
    "Shakespeare might seem like the farthest possible thing from data science, but the reality is that people have been analyzing Shakespeare with data just as long as they've been writing books and essays about him. In this workshop, we'll explore all 37 of Shakespeare's plays using data.\n",
    "\n",
    "We can use K-Means clustering to help us understand a question that readers of Shakespeare's plays have argued over for generations: what genre categories do the plays belong to? In the First Folio (the first complete publication of most of Shakespeare's plays, published in 1623), the publishers attempted to categorize the plays in the table of contents:\n",
    "\n",
    "<a title=\"William Shakespeare\n",
    ", Public domain, via Wikimedia Commons\" href=\"https://commons.wikimedia.org/wiki/File:First_Folio,_Shakespeare_-_0017.jpg\"><img width=\"512\" alt=\"First Folio, Shakespeare - 0017\" src=\"https://upload.wikimedia.org/wikipedia/commons/thumb/8/8a/First_Folio%2C_Shakespeare_-_0017.jpg/512px-First_Folio%2C_Shakespeare_-_0017.jpg\"></a>\n",
    "\n",
    "This is a reasonable first attempt! We've got a nice even set of 3 categories: Comedy, Tragedy, and History. Scholars have since added a fourth category, Romance or Tragicomedy, that includes plays like *The Tempest*, *The Winter's Tale*, *Cymbeline*, and *Pericles*. **In this workshop, you'll attempt to cluster Shakespeare's plays to determine what potential groupings of plays may exist.**\n",
    "\n",
    "## What's In a Number?\n",
    "\n",
    "But wait! You can download a folder full of Shakespeare's plays—the text is in lots of different forms—but none of this is a tidy dataset or CSV. How do we turn Shakespeare's plays into data? One way to model the similarity between texts is to *count their words*. In fact, studies have shown that just the 100 or so most common words in a text can be enough for good classification.\n",
    "\n",
    "Using Python, we can easily read a bunch of text files and count their words, but we'd run into a scaling problem very quickly. Some words are used hundreds of times, but others appear only once or twice. Instead of using z-scores like we have in the past, the field of Information Retrieval uses a technique called [TF-IDF (term frequency–inverse document frequency)](https://programminghistorian.org/en/lessons/analyzing-documents-with-tfidf) to normalize word counts based on how likely they are to appear. Sci-kit learn has a single class, `TfidfVectorizer()` that lets us do all of this in one step. You'll need that along with a new Python package, `glob`, to read in files and convert them into a dataframe of TF-IDF counts.\n",
    "\n",
    "Look up the documentation for `TfidfVectorizer()` and see if you can figure out what to do. Don't spend more than 5 or 10 minutes puzzling it over, though. When you're ready, you can reveal the solution.\n",
    "\n",
    "<details>\n",
    "<summary>Click here for the TF-IDF solution</summary>\n",
    "<pre><code># The new libraries\n",
    "import glob\n",
    "from sklearn.feature_extraction.text import TfidfVectorizer\n",
    "\n",
    "\\# Get filenames with glob\n",
    "files = glob.glob(\"sample_data/shakespeare/*\")\n",
    "\n",
    "\\# Create a vectorizer instance, save only 100 words\n",
    "vectorizer = TfidfVectorizer(input=\"filename\", max_features=100)\n",
    "\n",
    "\\# Save the titles of the plays as labels\n",
    "titles = [f.split(\"/\")[-1].split(\"_\")[0] for f in files]\n",
    "\n",
    "\\# Transform files into TF-IDF\n",
    "shakespeare = vectorizer.fit_transform(files)\n",
    "\\# Turn vectorizer results into readable dataframe\n",
    "shakespeare = pd.DataFrame(shakespeare.toarray(), index=titles, columns=vectorizer.get_feature_names())\n",
    "shakespeare</code></pre>\n",
    "</details>\n",
    "\n",
    "**In the cells below, import the necessary libraries for TF-IDF and KMeans clustering, read in the Shakespeare files, and turn them into a dataframe of TF-IDF values**:"
   ]
  },
  {
   "cell_type": "code",
   "execution_count": null,
   "metadata": {},
   "outputs": [],
   "source": []
  },
  {
   "cell_type": "markdown",
   "metadata": {},
   "source": [
    "# K-Means Clustering\n",
    "\n",
    "Now you have some data: normalized counts of the most frequent 100 words in Shakespeare's plays.\n",
    "\n",
    "In this next section, do the following:\n",
    "\n",
    "1) Determine the number of clusters you will need. Consider the explanation written above, but also try the **elbow method**. Explain *why* you chose the value for K that you did.\n",
    "2) Run K-Means clustering on the Shakespeare data. Look at the results to see if they match what literary scholars think about how different plays go together (i.e. do they match the table of contents above?). Write down some of your thoughts.\n",
    "3) Assess your clustering model by looking at the size of the clusters and a visualization of the cluster means. Did your model do a good job? What features seem to be separating the clusters? Write down some ideas, and suggest one or two next steps."
   ]
  },
  {
   "cell_type": "code",
   "execution_count": null,
   "metadata": {},
   "outputs": [],
   "source": []
  }
 ],
 "metadata": {
  "kernelspec": {
   "display_name": "Python 3 (ipykernel)",
   "language": "python",
   "name": "python3"
  },
  "language_info": {
   "codemirror_mode": {
    "name": "ipython",
    "version": 3
   },
   "file_extension": ".py",
   "mimetype": "text/x-python",
   "name": "python",
   "nbconvert_exporter": "python",
   "pygments_lexer": "ipython3",
   "version": "3.9.12"
  }
 },
 "nbformat": 4,
 "nbformat_minor": 4
}
