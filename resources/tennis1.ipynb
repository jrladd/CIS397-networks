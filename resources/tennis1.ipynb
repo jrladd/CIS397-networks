{
 "cells": [
  {
   "cell_type": "markdown",
   "id": "453294bd-c8b5-4e0e-9f91-94a0db0910e3",
   "metadata": {},
   "source": [
    "# Analyzing Tennis Matches\n",
    "\n",
    "## Introduction\n",
    "\n",
    "Sports analytics is one of the most popular and discussed forms of data analysis. No matter what sport interests you (gymnastics, football, skiing, etc., etc.), there is surely data out there and lots of people looking for ways to analyze and better understand the sport. Sometimes, the purpose of the data is to win more games! This, after all, is the plot of the movie *Moneyball*, in which the Oakland A's use data analysis to recruit players and increase their chances of winning the pennant.\n",
    "\n",
    "For this week's sports data workshop, we'll work with a data set from the 2015 French Open, which attempts to answer the question of why some tennis matches take a very long time to complete. Is it because of specific players, or is there some other factor? **To begin, import the libraries you will need below:**"
   ]
  },
  {
   "cell_type": "code",
   "execution_count": null,
   "id": "678b2772-8fe3-421d-9ff1-5293a4fc2222",
   "metadata": {},
   "outputs": [],
   "source": []
  },
  {
   "cell_type": "markdown",
   "id": "dbd665d5-502e-474a-9b0f-17ecea25fdaa",
   "metadata": {},
   "source": [
    "**Now read the `serve_times.csv` file, and show the dataframe:**"
   ]
  },
  {
   "cell_type": "code",
   "execution_count": null,
   "id": "8f5003f1-4112-4bbc-81df-fef524fdf02e",
   "metadata": {},
   "outputs": [],
   "source": []
  },
  {
   "cell_type": "markdown",
   "id": "bd5ed447-78f8-4d9e-98a3-518ed669da59",
   "metadata": {},
   "source": [
    "What do you notice about this data set? How many rows does it have? What do the rows represent? How might this affect our ability to compare one player to another? **Write your answers below:**"
   ]
  },
  {
   "cell_type": "markdown",
   "id": "c0b84de4-ed10-426b-99a5-59b1fae00a44",
   "metadata": {},
   "source": [
    "[Your answers here.]"
   ]
  },
  {
   "cell_type": "markdown",
   "id": "0704e9d8-0873-48ae-ad6f-e861c2221e10",
   "metadata": {},
   "source": [
    "## Exploring the Data\n",
    "\n",
    "Start by finding out how much the second before the next point (after a serve) varies based on who is serving. **Create a boxplot that expresses this:** *(n.b. This graph may be impossible to read in the usual orientation. To make it more readable, try putting the categorical variable on the y-axis and the numerical variable on the x-axis. You may need to do this with later plots as well.*)"
   ]
  },
  {
   "cell_type": "code",
   "execution_count": null,
   "id": "f5e7607e-dad0-4b03-b890-1c25ef84c752",
   "metadata": {},
   "outputs": [],
   "source": []
  },
  {
   "cell_type": "markdown",
   "id": "a3645081-dae6-4c33-9ee9-f6f2b4169877",
   "metadata": {},
   "source": [
    "What does this graph tell you about the difference between the serves of two tennis legends: Rafael Nadal and Andy Murray? Is there a way you could make the difference between these two easier to spot? **Write your answer below:**"
   ]
  },
  {
   "cell_type": "markdown",
   "id": "e4ab4491-f660-4a15-a50f-0058fb9c597a",
   "metadata": {},
   "source": [
    "[Your answers here.]"
   ]
  },
  {
   "cell_type": "markdown",
   "id": "ff2285d5-ae7c-4600-b725-50fc41b66c05",
   "metadata": {},
   "source": [
    "In the hypothesis tests that we've been working on, we typically care more about the *mean* then we do about the *median*. The boxplot above shows us the median seconds before the next point. **Now make a bar plot showing the mean for each server instead. Below, interpret the plot fully and be sure to mention what the black lines represent.**"
   ]
  },
  {
   "cell_type": "code",
   "execution_count": null,
   "id": "2638fa06-e480-4300-9633-5f5f728df9b6",
   "metadata": {},
   "outputs": [],
   "source": []
  },
  {
   "cell_type": "markdown",
   "id": "1646103f-a01d-473b-97df-69704e6b7a7c",
   "metadata": {},
   "source": [
    "[Your interpretation here.]"
   ]
  },
  {
   "cell_type": "markdown",
   "id": "ffd6b3f1-6b8c-4f9c-9bda-c81317f2ee5b",
   "metadata": {},
   "source": [
    "The plot above still makes it hard to understand the difference between Murray and Nadal. **Filter the data set to include only these two players. Give this dataframe a new name so you can keep track. Display the dataframe when you're done.**"
   ]
  },
  {
   "cell_type": "code",
   "execution_count": null,
   "id": "1360e10c-35c9-43a6-806d-d8f73fe033bd",
   "metadata": {},
   "outputs": [],
   "source": []
  },
  {
   "cell_type": "markdown",
   "id": "333b1350-3533-4249-95f2-179de9f663e3",
   "metadata": {},
   "source": [
    "**Now make the bar plot again with the new dataframe, and interpret it again. Which server appears to have longer times before a point? Are you confident in your interpretation, based on what the graph tells you?**"
   ]
  },
  {
   "cell_type": "code",
   "execution_count": null,
   "id": "b5596b20-f349-4db3-a2da-0a493f2b3ff3",
   "metadata": {},
   "outputs": [],
   "source": []
  },
  {
   "cell_type": "markdown",
   "id": "270d54e7-ee13-4f53-8d6e-efd8251ef963",
   "metadata": {},
   "source": [
    "[Your interpretation here.]"
   ]
  },
  {
   "cell_type": "markdown",
   "id": "7443fcc1-60ad-4bc3-8576-88e073a322bd",
   "metadata": {},
   "source": [
    "Finally, if we were doing a traditional t-test, we would want to make sure that both the Murray sample and the Nadal sample had a roughly equal number of values. **Using the `kind=\"count\"` parameter, create a barplot showing the number of entries for Nadal and Murray. Which player do we have more data for? Would we be able to use a t-test on this data? Why or why not?**"
   ]
  },
  {
   "cell_type": "code",
   "execution_count": null,
   "id": "3803133b-2de1-464e-872d-58a0a7f38f05",
   "metadata": {},
   "outputs": [],
   "source": []
  },
  {
   "cell_type": "markdown",
   "id": "db01e6cb-7e84-464a-87de-3ec31204b5c8",
   "metadata": {},
   "source": [
    "[Your interpretation here.]"
   ]
  },
  {
   "cell_type": "markdown",
   "id": "9f48f6ee-71f4-4537-be25-ea76811387d7",
   "metadata": {},
   "source": [
    "## Running a Hypothesis Test\n",
    "\n",
    "Let's create a permutation-based hypothesis test to see whether the difference between Nadal and Murray in our data is statistically significant. **What would be our null hypothesis? What would be our alternative hypothesis? Write your answers below:**"
   ]
  },
  {
   "cell_type": "markdown",
   "id": "24ae00a7-5760-4e0f-aff1-cc9f6aeb7123",
   "metadata": {},
   "source": [
    "[Your answers here.]"
   ]
  },
  {
   "cell_type": "markdown",
   "id": "ee586517-9b1d-4064-9a47-f6a779a3f0b0",
   "metadata": {},
   "source": [
    "**Begin by calculating the observed difference in means between Nadal and Murray. Call this variable `mean_diff` and display it.**"
   ]
  },
  {
   "cell_type": "code",
   "execution_count": null,
   "id": "e48906f6-08b6-4fe1-a6f9-6d96332e567b",
   "metadata": {},
   "outputs": [],
   "source": []
  },
  {
   "cell_type": "markdown",
   "id": "3675c0b8-596e-4966-b787-76219cc87860",
   "metadata": {},
   "source": [
    "**Now let's get our permutation function.** (It's okay to copy this directly from the slide.) **Below, go through the function line-by-line, explaining what each line does:**"
   ]
  },
  {
   "cell_type": "code",
   "execution_count": null,
   "id": "f704aba7-54e6-408d-a647-c063a1d7529e",
   "metadata": {},
   "outputs": [],
   "source": []
  },
  {
   "cell_type": "markdown",
   "id": "04a8aa5b-ff5c-4c5b-911b-393580d77bf4",
   "metadata": {},
   "source": [
    "[Your answer here.]"
   ]
  },
  {
   "cell_type": "markdown",
   "id": "18343af7-ac0d-4070-b5c1-841f35fd1cb1",
   "metadata": {},
   "source": [
    "Using the `mean_perm()` function, **write a list comprehension that runs 10,000 permutations of the difference between Nadal and Murray. Call this variable `mean_perms`.** Will you want to use the full `tennis` dataframe or your filtered dataframe?"
   ]
  },
  {
   "cell_type": "code",
   "execution_count": null,
   "id": "0c268de6-4083-4dd6-8b9b-729f41eef0ec",
   "metadata": {},
   "outputs": [],
   "source": []
  },
  {
   "cell_type": "markdown",
   "id": "538de6c2-b978-4077-9391-3eedf151af24",
   "metadata": {},
   "source": [
    "Now you're ready to view some results! **Make a histogram showing the permuation distribution, and plot the observed difference in means as a red dotted line. Below, interpret the plot fully. Does it seem like the observed difference in means is statistically significant based on this plot?**"
   ]
  },
  {
   "cell_type": "code",
   "execution_count": null,
   "id": "9b44bbe2-7ce4-4c7d-819a-734da9436953",
   "metadata": {},
   "outputs": [],
   "source": []
  },
  {
   "cell_type": "markdown",
   "id": "758c1efe-1bd3-44c4-9a6a-e00a70d67c93",
   "metadata": {},
   "source": [
    "[Your interpretation here.]"
   ]
  },
  {
   "cell_type": "markdown",
   "id": "92d3bc5d-1518-4561-9ab7-b693f39c42bc",
   "metadata": {},
   "source": [
    "Last but not least, **calculate the p-value for your permutation test.**"
   ]
  },
  {
   "cell_type": "code",
   "execution_count": null,
   "id": "d40c1a44-03cd-4078-8180-2db068dc9988",
   "metadata": {},
   "outputs": [],
   "source": []
  },
  {
   "cell_type": "markdown",
   "id": "772373ef-f509-4c4d-a1b1-7c52d3e614cc",
   "metadata": {},
   "source": [
    "## Conclusion\n",
    "\n",
    "**Write a brief conclusion summarizing what you found out from the permutation test. Based on the p-value and the typical alpha of 0.05, do you believe there is a statistically significant difference in means between Nadal and Murray? Do you think the difference in means is *practically significant*? Based on other features of the data, especially sample size, do you believe you can trust the results of the permutation test? Are there any next steps you might recommend for this analysis?**"
   ]
  },
  {
   "cell_type": "markdown",
   "id": "bd2960ca-1279-4b77-8ba3-f2dbd688fb9d",
   "metadata": {},
   "source": [
    "[Your conclusion here.]"
   ]
  }
 ],
 "metadata": {
  "kernelspec": {
   "display_name": "Python 3 (ipykernel)",
   "language": "python",
   "name": "python3"
  },
  "language_info": {
   "codemirror_mode": {
    "name": "ipython",
    "version": 3
   },
   "file_extension": ".py",
   "mimetype": "text/x-python",
   "name": "python",
   "nbconvert_exporter": "python",
   "pygments_lexer": "ipython3",
   "version": "3.9.12"
  }
 },
 "nbformat": 4,
 "nbformat_minor": 5
}
