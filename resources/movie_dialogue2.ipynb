{
 "cells": [
  {
   "cell_type": "markdown",
   "id": "c8096f83-c809-466f-9fcc-eae1d3aa62c4",
   "metadata": {},
   "source": [
    "# Introduction\n",
    "\n",
    "*These are the same as last time, but I'm including them here for the necessary context.*\n",
    "\n",
    "Over the past 10 years, there's been a lot of public conversation about gender and racial imbalance in Hollywood. Movements like [#OscarsSoWhite](https://www.nytimes.com/2020/02/06/movies/oscarssowhite-history.html) and trends like [the Bechdel test](https://en.wikipedia.org/wiki/Bechdel_test) have explicitly called out the extent to which certain groups are underrepresented in Hollywood films. But exactly what are the proportions of representation in movies? Before we can address this apparent imbalance, we have to understand its scope and extent.\n",
    "\n",
    "In 2016, a group of researchers working for the data visualization website [The Pudding](https://pudding.cool/) set out to do just that in order to better understand gender imbalance in film. They compiled a data set of approximately 2000 scripts from throughout movie history and, using text analysis, recorded how much each character speaks. The data was then refined and enhanced first by [Dr. Melanie Walsh](https://melaniewalsh.github.io/Intro-Cultural-Analytics/00-Datasets/00-Datasets.html#hollywood-film-dialogue-by-character-gender-and-age) and then by Dr. John Ladd. I (Dr. Ladd speaking) added genre categories and runtime information from the [larger IMDB dataset](https://www.imdb.com/interfaces/).\n",
    "\n",
    "Using this census of film scripts, it's possible to better understand what gender imbalance looks like in movies across history and to ask questions about what may affect that imbalance. For example, we might ask: what factors affect the proportion of dialogue in a movie spoken by female characters?\n",
    "\n",
    "# Ethical Considerations\n",
    "\n",
    "Discussion of gender bias and imbalance can be deeply sensitive. The issue of whether women are underrepresented in the film industry affects thousands of women actors, directors, and crew members. Representation is also essential for audiences: as long as movies remain a major cultural force, everyone wants to see themselves accurately and fairly portrayed on screen. It's important that data analysts neither underplay nor exaggerate the imbalances that exist in this industry.\n",
    "\n",
    "But gender, as a concept, is historically fraught, and using a binary definition of gender for a data analysis like this is useful but not fully accurate. I'll let [Dr. Walsh](https://melaniewalsh.github.io/Intro-Cultural-Analytics/03-Data-Analysis/03-Pandas-Basics-Part3.html#the-puddings-film-dialogue-data) explain:\n",
    "\n",
    ">Yet transforming complex social constructs like gender into quantifiable data is tricky and historically fraught. They [*The Pudding* researchers] claim, in fact, that one of the most [frequently asked questions](https://medium.com/@matthew_daniels/faq-for-the-film-dialogue-by-gender-project-40078209f751) about the piece is about gender: “Wait, but let’s talk about gender. How do you know the monster in Monsters Inc. is a boy!” The short answer is that they don’t. To determine character gender, they used actors’ IMDB information, which they acknowledge is an imperfect approach: “Sometimes, women voice male characters. Bart Simpson, for example, is voiced by a woman. We’re aware that this means some of the data is wrong, AND we’re still fine with the methodology and approach.”\n",
    "\n",
    ">As we work with this data, we want to be critical and cognizant of this approach to gender. How does such a binary understanding of gender, gleaned from the IMDB pages of actors, influence our later results and conclusions? What do we gain by using such an approach, and what do we lose? How else might we have encoded or determined gender for the same data?\n",
    "\n",
    "# Data Wrangling\n",
    "\n",
    "Let's start by getting our data in shape. **In the cell below, import the necessary libraries (`pandas`, `numpy`, `seaborn`), and make sure the `seaborn` theme is set:**"
   ]
  },
  {
   "cell_type": "code",
   "execution_count": null,
   "id": "04370e62-bcc3-42f1-b10d-1f7d3e3e2bc3",
   "metadata": {},
   "outputs": [],
   "source": []
  },
  {
   "cell_type": "markdown",
   "id": "026e37d1-9655-47ee-ba63-1824e225864f",
   "metadata": {},
   "source": [
    "**Now read in the same data file from last week. Name the dataframe `dialogue` again, and display it:**"
   ]
  },
  {
   "cell_type": "code",
   "execution_count": null,
   "id": "fe5d982c-a699-41fc-b2c4-f23e00bbc57d",
   "metadata": {},
   "outputs": [],
   "source": []
  },
  {
   "cell_type": "markdown",
   "id": "06a2bc07-5fd0-4a08-9c04-1d736f48fc04",
   "metadata": {},
   "source": [
    "Take a look at the data wrangling assignment from last week. You had to do a couple essential things to the data to get it in shape for analysis. You had to run two filters on two separate columns of data, and you had to change the type of another column. **Do all three of those again in the same cell below, making sure to add comments so it's clear what you're doing:**"
   ]
  },
  {
   "cell_type": "code",
   "execution_count": null,
   "id": "21b3086d-362f-4f5a-ab2f-c904e4822238",
   "metadata": {},
   "outputs": [],
   "source": []
  },
  {
   "cell_type": "markdown",
   "id": "6935ef57-cdb6-40d1-a0b6-7e01dff22eef",
   "metadata": {},
   "source": [
    "Now we're ready to do more advanced work with this data set.\n",
    "\n",
    "For this project, we care about individual characters, but we also care about aggregates within specific movies. We want to know how often female characters speak overall in each movie. To answer questions about movies, we need to create a **summary table** that groups and summarizes our characters by films. We can do that with the code below."
   ]
  },
  {
   "cell_type": "code",
   "execution_count": null,
   "id": "0fa9c466-60d9-448c-9f6d-4c1833edcec4",
   "metadata": {},
   "outputs": [],
   "source": [
    "movies = (dialogue.groupby(['title','gender','gross', 'runtimeMinutes', 'release_year', 'genres'])\n",
    "                  .agg({'proportion_of_dialogue': 'sum', 'words': 'sum', 'age': 'mean'})\n",
    "                  .reset_index())\n",
    "movies"
   ]
  },
  {
   "cell_type": "markdown",
   "id": "d7746631-95a3-42c9-861e-c18f3b8a4b6d",
   "metadata": {},
   "source": [
    "The above code is somewhat new to you! We made a summary table using a `.groupby()`, but the other functions are new. See if you can figure out what's going on in the code above. Remember to refer to the Pandas documentation if you're curious about a specific function. (I also wrapped everything in extra parantheses, so that I could run functions on their own lines. This is a useful Pandas trick!)\n",
    "\n",
    "**Explain the code above line-by-line, noting what each line of code accomplishes. Write your answer below**:"
   ]
  },
  {
   "cell_type": "markdown",
   "id": "68d132cd-ffa4-4ba7-b4dc-f1051451bef5",
   "metadata": {},
   "source": []
  },
  {
   "cell_type": "markdown",
   "id": "09adbe2a-5ab9-4ca9-a7fc-7bef79cd7e3e",
   "metadata": {},
   "source": [
    "Now you're ready to begin visualizing this data in interesting ways!\n",
    "\n",
    "# Exploratory Data Analysis\n",
    "\n",
    "## Characters\n",
    "\n",
    "First, we'll use the `dialogue` table to understand more about the original dataset. Let's find out how many characters have different proportions of dialogue, i.e. \"how many characters speak more than 50% of the dialogue in their films?\".\n",
    "\n",
    "**To visualize this, create a histogram of the `proportion_of_dialogue` variable. Use the `col=` parameter to see two side-by-side histograms for each gender. Change the number of bins to make the graph more readable.**\n",
    "\n",
    "**Below the histogram, write a few sentences of interpretation. What does this graph tell you about the distribution and breakdown of how much men and women speak in movies?**\n"
   ]
  },
  {
   "cell_type": "code",
   "execution_count": null,
   "id": "e644734d-1861-4162-b02a-47eeba3231bb",
   "metadata": {},
   "outputs": [],
   "source": []
  },
  {
   "cell_type": "markdown",
   "id": "1bc31035-bc14-4f76-8c4c-e91103f75c77",
   "metadata": {},
   "source": [
    "[Interpretation here.]"
   ]
  },
  {
   "cell_type": "markdown",
   "id": "542fee6a-3cb7-4b19-9c3f-7b8d7659a5af",
   "metadata": {},
   "source": [
    "Next, it would be nice to see if any of these trends of gender difference are affected by the genre of the movie. To do this, we can look just at how many words women speak across the different genres.\n",
    "\n",
    "**First, create a new dataframe of only the female characters using a bracket selection. Call this dataset `dialogue_women`.**"
   ]
  },
  {
   "cell_type": "code",
   "execution_count": null,
   "id": "47f36732-03d8-4725-834a-e5993b1f084c",
   "metadata": {},
   "outputs": [],
   "source": []
  },
  {
   "cell_type": "markdown",
   "id": "75dbb058-9f4b-45e4-99dc-1c473a930bf6",
   "metadata": {},
   "source": [
    "**Using this dataset, create a boxplot showing the distribution of how many `words` women speak in a movie across the different `genres`. Be sure to add better axis labels to your plot with `.set_axis_labels()`. Below the boxplot, write a short interpretation of the distributions you observe. In which genres do women speak more?**\n",
    "\n",
    "*There are a few things we can do to make this graph more readable. First, we can invert the usual x- and y-axis arrangement: with this many categories, it makes more sense to have the categorical variable along the y-axis. And we can limit the x-axis, to only show the most important part of the graph, by chaining the `set()` function: `set(xlim(0,5000))`. Try making the graph with and without these features to see how it changes, but make sure the final version has both.*"
   ]
  },
  {
   "cell_type": "code",
   "execution_count": null,
   "id": "635e224d-8e3b-4bc9-8108-69108e690583",
   "metadata": {},
   "outputs": [],
   "source": []
  },
  {
   "cell_type": "markdown",
   "id": "cfe6a2ad-2fce-4e4f-9ac8-891cb4671a73",
   "metadata": {},
   "source": [
    "[Interpretation here.]"
   ]
  },
  {
   "cell_type": "markdown",
   "id": "1d51326d-2b26-41b6-af4a-a76c8e981e68",
   "metadata": {},
   "source": [
    "## Movies\n",
    "\n",
    "Now that we've learned a little more about individual characters, we're ready to learn about the proportions of dialogue in entire movies. We can use the `movies` summary table that we created in the data wrangling step to accomplish this.\n",
    "\n",
    "First, let's figure out how much men speak in movies vs. how much women speak. Will we find out, as we did with individual characters, that male characters tend to speak more than female ones?\n",
    "\n",
    "**Create a boxplot looking at the distribution of total words (`sum_words`) spoken by the two different `gender` categories in the `movies` dataset. Write a brief interpretation of this graph.**\n"
   ]
  },
  {
   "cell_type": "code",
   "execution_count": null,
   "id": "29ed80e3-8cb8-4450-a4f1-3d870dbaf9e0",
   "metadata": {},
   "outputs": [],
   "source": []
  },
  {
   "cell_type": "markdown",
   "id": "96e40368-1395-414e-805f-01d3157b1b38",
   "metadata": {},
   "source": [
    "[Interpretation here.]"
   ]
  },
  {
   "cell_type": "markdown",
   "id": "d3e862c8-4188-404c-9ebb-4b2f2149a3ea",
   "metadata": {},
   "source": [
    "We found a clear gender imbalance in this graph! Now we would like to know: are there other variables that help us to explain this rather stark difference?\n",
    "\n",
    "To answer this question, we'll focus just on the proportion that women characters speak in a given movie. (Since this data assumes a gender binary, the proportion that men speak will always be the inverse.) **To do this, filter the `movies` dataset to create a new dataset showing only the statistics on `women`. Call this new dataset `movies_women`.**"
   ]
  },
  {
   "cell_type": "code",
   "execution_count": null,
   "id": "fba7da5c-50c1-4481-999f-571685fc9518",
   "metadata": {},
   "outputs": [],
   "source": []
  },
  {
   "cell_type": "markdown",
   "id": "8607354e-87ca-4205-ae05-3d264289727e",
   "metadata": {},
   "source": [
    "Now we have a dataframe containing information on the total proportion of dialogue spoken by women in each movie. This is contained in the `proportion_of_dialogue` variable, and we created it back in the data wrangling step. This is the variable we'd like to learn more about! We would like to know how this variable changes *depending on* other variables: so we call this variable our **dependent variable**.\n",
    "\n",
    "What things might affect the proportion of dialogue spoken by women? Does the length of the movie make a difference? What about the average age of the female characters? What about the year the movie was released? There are lots of different options in this data set! To find out the answers to these kinds of questions, we need to choose some **independent variables**, variables that might affect or change the dependent variable.\n",
    "\n",
    "Look through the data and choose 3 independent variables. **List them below and briefly note why you chose them and what question you're trying to answer.** *In this case, all of your independent variables should be **numerical/quantitative**.*\n",
    "\n",
    "Okay, one last big task to finish off this lab! **To assess the relationships between your dependent variable (`sum_dialogue`) and your chosen independent variables, create THREE scatterplots showing each relationship. Write a brief interpretation of each one. Did you find the relationship/trend you imagined?**\n",
    "\n",
    "*Remember, in a scatterplot the dependent variable always goes on the y-axis.*"
   ]
  },
  {
   "cell_type": "markdown",
   "id": "1edd8316-f85f-450b-920f-c5883ace5bba",
   "metadata": {},
   "source": [
    "[Write your selections for variables here, and explain why you chose them.]"
   ]
  },
  {
   "cell_type": "code",
   "execution_count": 1,
   "id": "0180c782-8f59-4723-b398-ff43471d6dff",
   "metadata": {},
   "outputs": [],
   "source": [
    "# Scatter plot 1\n"
   ]
  },
  {
   "cell_type": "markdown",
   "id": "02de2c4a-dbe2-4985-8fe2-d66eb98fb23b",
   "metadata": {},
   "source": [
    "[Interpretation here.]"
   ]
  },
  {
   "cell_type": "code",
   "execution_count": 2,
   "id": "5cb67fae-e199-4647-b42f-73cec8e41cba",
   "metadata": {},
   "outputs": [],
   "source": [
    "# Scatter plot 2\n"
   ]
  },
  {
   "cell_type": "markdown",
   "id": "5143b3d4-23f3-43cc-b08b-9ee819b35cab",
   "metadata": {},
   "source": [
    "[Interpretation here.]"
   ]
  },
  {
   "cell_type": "code",
   "execution_count": 3,
   "id": "9c669c2b-2a69-45e7-bcbf-248895d63bad",
   "metadata": {},
   "outputs": [],
   "source": [
    "# Scatter plot 3\n"
   ]
  },
  {
   "cell_type": "markdown",
   "id": "362eb459-df95-4bac-85d7-f51d6cfdd042",
   "metadata": {},
   "source": [
    "[Interpretation here.]"
   ]
  },
  {
   "cell_type": "markdown",
   "id": "83a8630a-5f73-4bda-ad46-178bdbe6142c",
   "metadata": {},
   "source": [
    "# Conclusion\n",
    "\n",
    "*Write a short paragraph summarizing what you learned about gender in movies from this lab. Which findings were expected, and which were surprising? How did the different visualizations help you toward a general conclusion? What caveats/next steps do you want to offer?*"
   ]
  },
  {
   "cell_type": "markdown",
   "id": "dbda2cb8-798b-4834-b87f-0d10715d59fd",
   "metadata": {},
   "source": []
  }
 ],
 "metadata": {
  "kernelspec": {
   "display_name": "Python 3 (ipykernel)",
   "language": "python",
   "name": "python3"
  },
  "language_info": {
   "codemirror_mode": {
    "name": "ipython",
    "version": 3
   },
   "file_extension": ".py",
   "mimetype": "text/x-python",
   "name": "python",
   "nbconvert_exporter": "python",
   "pygments_lexer": "ipython3",
   "version": "3.9.12"
  }
 },
 "nbformat": 4,
 "nbformat_minor": 5
}
